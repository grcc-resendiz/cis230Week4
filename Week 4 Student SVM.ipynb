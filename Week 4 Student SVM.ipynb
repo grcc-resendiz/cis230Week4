{
 "cells": [
  {
   "cell_type": "markdown",
   "id": "5bf0b41b",
   "metadata": {},
   "source": [
    "# **Support Vector Machine(SVM)**"
   ]
  },
  {
   "cell_type": "markdown",
   "id": "20c77411",
   "metadata": {},
   "source": [
    "# **Introduction to SVM** "
   ]
  },
  {
   "cell_type": "markdown",
   "id": "849a8de0",
   "metadata": {},
   "source": [
    "Support Vector Machine (SVM) is a\n",
    "robust classification and regression\n",
    "technique that maximizes the\n",
    "predictive accuracy of a model without\n",
    "overfitting the training data.\n",
    "\n",
    "SVM is particularly suited to\n",
    "analyzing data with very large\n",
    "numbers (for example, thousands) of\n",
    "predictor fields."
   ]
  },
  {
   "cell_type": "markdown",
   "id": "38678980",
   "metadata": {},
   "source": [
    "# **Import Libraries**"
   ]
  },
  {
   "cell_type": "code",
   "execution_count": null,
   "id": "8d7bcde9",
   "metadata": {},
   "outputs": [],
   "source": [
    "import matplotlib.pyplot as plt #matplotlib.pyplot: for plotting\n",
    "%matplotlib inline \n",
    "import pylab as pl #a matplotlib-based Python environment\n",
    "from sklearn.datasets import load_digits #Load and return the digits dataset (classification)\n",
    "from sklearn.model_selection import train_test_split\n",
    "from sklearn import svm"
   ]
  },
  {
   "cell_type": "markdown",
   "id": "30d31f32",
   "metadata": {},
   "source": [
    "# **Import Handwritten Built-in Dataset**"
   ]
  },
  {
   "cell_type": "code",
   "execution_count": null,
   "id": "eb2e7076",
   "metadata": {},
   "outputs": [],
   "source": [
    "digits = load_digits() #imports built-in dataset of handwritten numbers"
   ]
  },
  {
   "cell_type": "markdown",
   "id": "a93391d1",
   "metadata": {},
   "source": [
    "# **Display Sample digit from Dataset**"
   ]
  },
  {
   "cell_type": "code",
   "execution_count": null,
   "id": "51e70db0",
   "metadata": {
    "scrolled": true
   },
   "outputs": [],
   "source": [
    "pl.gray()\n",
    "pl.matshow(digits.images[2]) #try to change the index value of images[] and observe\n",
    "pl.show()"
   ]
  },
  {
   "cell_type": "markdown",
   "id": "d987a8b5",
   "metadata": {},
   "source": [
    "# **Displaying pixel view of Digit**"
   ]
  },
  {
   "cell_type": "code",
   "execution_count": null,
   "id": "a80732e8",
   "metadata": {},
   "outputs": [],
   "source": [
    "digits.images[2] #displays the pixel corresponding to hand written numbers"
   ]
  },
  {
   "cell_type": "markdown",
   "id": "244ce2ea",
   "metadata": {},
   "source": [
    "# **Display more digits along with Labels from Dataset**"
   ]
  },
  {
   "cell_type": "code",
   "execution_count": null,
   "id": "51b10ad9",
   "metadata": {},
   "outputs": [],
   "source": [
    "images_labels = list(zip(digits.images, digits.target))\n",
    "plt.figure(figsize = (5,5))\n",
    "for index, (image, label) in enumerate(images_labels[:15]):\n",
    "    plt.subplot(3, 5, index + 1)\n",
    "    plt.axis('off')\n",
    "    plt.imshow(image, cmap=plt.cm.gray_r, interpolation='nearest')\n",
    "    plt.title('%i' %label)"
   ]
  },
  {
   "cell_type": "markdown",
   "id": "a442aacc",
   "metadata": {},
   "source": [
    "# **Displaying the Length of Dataset**"
   ]
  },
  {
   "cell_type": "code",
   "execution_count": null,
   "id": "ce717990",
   "metadata": {},
   "outputs": [],
   "source": [
    "samples = len(digits.images)\n",
    "print(samples)"
   ]
  },
  {
   "cell_type": "markdown",
   "id": "815567d6",
   "metadata": {},
   "source": [
    "# **Divide the Dataset into Input and Target Variables**"
   ]
  },
  {
   "cell_type": "code",
   "execution_count": null,
   "id": "ad9d2a65",
   "metadata": {},
   "outputs": [],
   "source": [
    "x = digits.images.reshape((samples, -1)) #input features are samples\n",
    "y = digits.target #output are the target labels"
   ]
  },
  {
   "cell_type": "markdown",
   "id": "b3fbfd30",
   "metadata": {},
   "source": [
    "# **Divide the Dataset into Train and Test sets by randomly splitting dataset**"
   ]
  },
  {
   "cell_type": "code",
   "execution_count": null,
   "id": "7b1ee908",
   "metadata": {},
   "outputs": [],
   "source": [
    "x_train, x_test, y_train, y_test = train_test_split(x, y)\n",
    "print(x_train.shape)\n",
    "print(x_test.shape)"
   ]
  },
  {
   "cell_type": "markdown",
   "id": "0a4f16c6",
   "metadata": {},
   "source": [
    "# **Support Vector Machine with Linear Kernel**"
   ]
  },
  {
   "cell_type": "code",
   "execution_count": null,
   "id": "3e9ff678",
   "metadata": {},
   "outputs": [],
   "source": [
    "from sklearn import svm\n",
    "model_linear = svm.SVC(kernel = 'linear', degree=3, gamma='scale')\n",
    "model_linear.fit(x_train, y_train)\n",
    "\n",
    "y_pred = model_linear.predict(x_test)"
   ]
  },
  {
   "cell_type": "markdown",
   "id": "86780a33",
   "metadata": {},
   "source": [
    "# **Evaluating Accuracy**"
   ]
  },
  {
   "cell_type": "code",
   "execution_count": null,
   "id": "2452ded5",
   "metadata": {},
   "outputs": [],
   "source": [
    "model_linear.score(x_test, y_test)"
   ]
  }
 ],
 "metadata": {
  "kernelspec": {
   "display_name": "Python 3",
   "language": "python",
   "name": "python3"
  },
  "language_info": {
   "codemirror_mode": {
    "name": "ipython",
    "version": 3
   },
   "file_extension": ".py",
   "mimetype": "text/x-python",
   "name": "python",
   "nbconvert_exporter": "python",
   "pygments_lexer": "ipython3",
   "version": "3.8.8"
  },
  "toc": {
   "base_numbering": 1,
   "nav_menu": {},
   "number_sections": true,
   "sideBar": true,
   "skip_h1_title": false,
   "title_cell": "Table of Contents",
   "title_sidebar": "Contents",
   "toc_cell": false,
   "toc_position": {},
   "toc_section_display": true,
   "toc_window_display": true
  }
 },
 "nbformat": 4,
 "nbformat_minor": 5
}
